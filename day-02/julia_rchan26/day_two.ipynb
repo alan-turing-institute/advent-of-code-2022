{
 "cells": [
  {
   "cell_type": "code",
   "execution_count": 1,
   "id": "4bbb86b8",
   "metadata": {},
   "outputs": [
    {
     "data": {
      "text/plain": [
       "3×2 Matrix{Any}:\n",
       " \"A\"  \"Y\"\n",
       " \"B\"  \"X\"\n",
       " \"C\"  \"Z\""
      ]
     },
     "execution_count": 1,
     "metadata": {},
     "output_type": "execute_result"
    }
   ],
   "source": [
    "using DelimitedFiles\n",
    "test_input = DelimitedFiles.readdlm(\"test_input.txt\")"
   ]
  },
  {
   "cell_type": "code",
   "execution_count": 2,
   "id": "21abc6b6",
   "metadata": {},
   "outputs": [
    {
     "data": {
      "text/plain": [
       "2500×2 Matrix{Any}:\n",
       " \"A\"  \"Y\"\n",
       " \"B\"  \"Z\"\n",
       " \"C\"  \"Y\"\n",
       " \"B\"  \"Y\"\n",
       " \"A\"  \"Y\"\n",
       " \"A\"  \"Y\"\n",
       " \"A\"  \"X\"\n",
       " \"A\"  \"Y\"\n",
       " \"B\"  \"Z\"\n",
       " \"A\"  \"Y\"\n",
       " \"B\"  \"Y\"\n",
       " \"A\"  \"Z\"\n",
       " \"A\"  \"Y\"\n",
       " ⋮    \n",
       " \"A\"  \"Y\"\n",
       " \"B\"  \"Z\"\n",
       " \"B\"  \"Y\"\n",
       " \"B\"  \"Y\"\n",
       " \"B\"  \"Y\"\n",
       " \"A\"  \"Z\"\n",
       " \"B\"  \"Z\"\n",
       " \"A\"  \"Y\"\n",
       " \"B\"  \"Y\"\n",
       " \"A\"  \"Z\"\n",
       " \"A\"  \"Y\"\n",
       " \"A\"  \"Y\""
      ]
     },
     "execution_count": 2,
     "metadata": {},
     "output_type": "execute_result"
    }
   ],
   "source": [
    "input = DelimitedFiles.readdlm(\"input.txt\")"
   ]
  },
  {
   "cell_type": "markdown",
   "id": "9175d5b6",
   "metadata": {},
   "source": [
    "## Part One"
   ]
  },
  {
   "cell_type": "code",
   "execution_count": 3,
   "id": "2e71d3d0",
   "metadata": {},
   "outputs": [
    {
     "data": {
      "text/plain": [
       "Dict{String, String} with 3 entries:\n",
       "  \"Y\" => \"P\"\n",
       "  \"Z\" => \"S\"\n",
       "  \"X\" => \"R\""
      ]
     },
     "execution_count": 3,
     "metadata": {},
     "output_type": "execute_result"
    }
   ],
   "source": [
    "opponent_dict = Dict(\"A\" => \"R\",\n",
    "    \"B\" => \"P\",\n",
    "    \"C\" => \"S\")\n",
    "you_dict = Dict(\"X\" => \"R\",\n",
    "    \"Y\" => \"P\",\n",
    "    \"Z\" => \"S\")"
   ]
  },
  {
   "cell_type": "code",
   "execution_count": 4,
   "id": "b1f280b6",
   "metadata": {},
   "outputs": [
    {
     "data": {
      "text/plain": [
       "outcome_points (generic function with 1 method)"
      ]
     },
     "execution_count": 4,
     "metadata": {},
     "output_type": "execute_result"
    }
   ],
   "source": [
    "function outcome_points(opponent, you)\n",
    "    # determine the number of points obtained from outcome\n",
    "    opponent_choice = opponent_dict[opponent]\n",
    "    you_choice = you_dict[you]\n",
    "    if opponent_choice == you_choice\n",
    "        return 3\n",
    "    end\n",
    "    if opponent_choice == \"R\"\n",
    "        if you_choice == \"P\"\n",
    "            return 6\n",
    "        elseif you_choice == \"S\"\n",
    "            return 0\n",
    "        end\n",
    "    elseif opponent_choice == \"P\"\n",
    "        if you_choice == \"R\"\n",
    "            return 0\n",
    "        elseif you_choice == \"S\"\n",
    "            return 6\n",
    "        end\n",
    "    elseif opponent_choice == \"S\"\n",
    "        if you_choice == \"R\"\n",
    "            return 6\n",
    "        elseif you_choice == \"P\"\n",
    "            return 0\n",
    "        end\n",
    "    end\n",
    "end"
   ]
  },
  {
   "cell_type": "code",
   "execution_count": 5,
   "id": "13612747",
   "metadata": {},
   "outputs": [
    {
     "data": {
      "text/plain": [
       "shape_select_points (generic function with 1 method)"
      ]
     },
     "execution_count": 5,
     "metadata": {},
     "output_type": "execute_result"
    }
   ],
   "source": [
    "function shape_select_points(shape)\n",
    "    # determine the number of points obtained by shape choice\n",
    "    if shape == \"R\"\n",
    "        return 1\n",
    "    elseif shape == \"P\"\n",
    "        return 2\n",
    "    elseif shape == \"S\"\n",
    "        return 3\n",
    "    else\n",
    "        throw(error(\"shape is not 'R', 'P', or 'S'\"))\n",
    "    end\n",
    "end"
   ]
  },
  {
   "cell_type": "code",
   "execution_count": 6,
   "id": "5e253027",
   "metadata": {},
   "outputs": [
    {
     "data": {
      "text/plain": [
       "part_one (generic function with 1 method)"
      ]
     },
     "execution_count": 6,
     "metadata": {},
     "output_type": "execute_result"
    }
   ],
   "source": [
    "function part_one(input)\n",
    "    points = 0\n",
    "    for row in eachrow(input)\n",
    "        points += outcome_points(row[1], row[2])\n",
    "        points += shape_select_points(you_dict[row[2]])\n",
    "    end\n",
    "    return points\n",
    "end"
   ]
  },
  {
   "cell_type": "markdown",
   "id": "159b4d90",
   "metadata": {},
   "source": [
    "## Test case"
   ]
  },
  {
   "cell_type": "code",
   "execution_count": 7,
   "id": "2435233b",
   "metadata": {},
   "outputs": [
    {
     "data": {
      "text/plain": [
       "\u001b[32m\u001b[1mTest Passed\u001b[22m\u001b[39m"
      ]
     },
     "execution_count": 7,
     "metadata": {},
     "output_type": "execute_result"
    }
   ],
   "source": [
    "using Test\n",
    "Test.@test part_one(test_input) == 15"
   ]
  },
  {
   "cell_type": "markdown",
   "id": "bf7e6d6d",
   "metadata": {},
   "source": [
    "## Answer"
   ]
  },
  {
   "cell_type": "code",
   "execution_count": 8,
   "id": "4c8135b1",
   "metadata": {
    "scrolled": true
   },
   "outputs": [
    {
     "data": {
      "text/plain": [
       "15632"
      ]
     },
     "execution_count": 8,
     "metadata": {},
     "output_type": "execute_result"
    }
   ],
   "source": [
    "part_one(input)"
   ]
  },
  {
   "cell_type": "markdown",
   "id": "ae8dbb48",
   "metadata": {},
   "source": [
    "## Part Two"
   ]
  },
  {
   "cell_type": "code",
   "execution_count": 9,
   "id": "280c19bb",
   "metadata": {},
   "outputs": [
    {
     "data": {
      "text/plain": [
       "decide_shape (generic function with 1 method)"
      ]
     },
     "execution_count": 9,
     "metadata": {},
     "output_type": "execute_result"
    }
   ],
   "source": [
    "function decide_shape(opponent_choice, require)\n",
    "    opponent_shape = opponent_dict[opponent_choice]\n",
    "    if require == \"draw\"\n",
    "        return opponent_shape\n",
    "    elseif require == \"win\"\n",
    "        if opponent_shape == \"R\"\n",
    "            return \"P\"\n",
    "        elseif opponent_shape == \"P\"\n",
    "            return \"S\"\n",
    "        elseif opponent_shape == \"S\"\n",
    "            return \"R\"\n",
    "        end\n",
    "    elseif require == \"loss\"\n",
    "        if opponent_shape == \"R\"\n",
    "            return \"S\"\n",
    "        elseif opponent_shape == \"P\"\n",
    "            return \"R\"\n",
    "        elseif opponent_shape == \"S\"\n",
    "            return \"P\"\n",
    "        end\n",
    "    else\n",
    "        throw(error(\"require is not 'win', 'draw' or 'loss'\"))\n",
    "    end\n",
    "end"
   ]
  },
  {
   "cell_type": "code",
   "execution_count": 13,
   "id": "347afd54",
   "metadata": {},
   "outputs": [
    {
     "data": {
      "text/plain": [
       "part_two (generic function with 1 method)"
      ]
     },
     "execution_count": 13,
     "metadata": {},
     "output_type": "execute_result"
    }
   ],
   "source": [
    "function part_two(input)\n",
    "    points = 0\n",
    "    for row in eachrow(input)\n",
    "        # determine the number of points obtained from outcome\n",
    "        if row[2] == \"X\"\n",
    "            require = \"loss\"\n",
    "            points += 0\n",
    "        elseif row[2] == \"Y\"\n",
    "            require = \"draw\"\n",
    "            points += 3\n",
    "        elseif row[2] == \"Z\"\n",
    "            require = \"win\"\n",
    "            points += 6\n",
    "        end\n",
    "        # determine shape to use and number of points obtained by shape choice\n",
    "        shape_to_use = decide_shape(row[1], require)\n",
    "        points += shape_select_points(shape_to_use)\n",
    "    end\n",
    "    return points\n",
    "end"
   ]
  },
  {
   "cell_type": "markdown",
   "id": "3be1f36b",
   "metadata": {},
   "source": [
    "## Test case"
   ]
  },
  {
   "cell_type": "code",
   "execution_count": 14,
   "id": "246e6b86",
   "metadata": {},
   "outputs": [
    {
     "data": {
      "text/plain": [
       "\u001b[32m\u001b[1mTest Passed\u001b[22m\u001b[39m"
      ]
     },
     "execution_count": 14,
     "metadata": {},
     "output_type": "execute_result"
    }
   ],
   "source": [
    "Test.@test part_two(test_input) == 12"
   ]
  },
  {
   "cell_type": "markdown",
   "id": "03f02282",
   "metadata": {},
   "source": [
    "## Answer"
   ]
  },
  {
   "cell_type": "code",
   "execution_count": 15,
   "id": "8509abad",
   "metadata": {},
   "outputs": [
    {
     "data": {
      "text/plain": [
       "14416"
      ]
     },
     "execution_count": 15,
     "metadata": {},
     "output_type": "execute_result"
    }
   ],
   "source": [
    "part_two(input)"
   ]
  }
 ],
 "metadata": {
  "kernelspec": {
   "display_name": "Julia 1.8.2",
   "language": "julia",
   "name": "julia-1.8"
  },
  "language_info": {
   "file_extension": ".jl",
   "mimetype": "application/julia",
   "name": "julia",
   "version": "1.8.2"
  }
 },
 "nbformat": 4,
 "nbformat_minor": 5
}

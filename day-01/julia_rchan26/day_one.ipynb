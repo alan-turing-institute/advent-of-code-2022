{
 "cells": [
  {
   "cell_type": "code",
   "execution_count": 1,
   "id": "a007118b",
   "metadata": {},
   "outputs": [
    {
     "data": {
      "text/plain": [
       "14-element Vector{String}:\n",
       " \"1000\"\n",
       " \"2000\"\n",
       " \"3000\"\n",
       " \"\"\n",
       " \"4000\"\n",
       " \"\"\n",
       " \"5000\"\n",
       " \"6000\"\n",
       " \"\"\n",
       " \"7000\"\n",
       " \"8000\"\n",
       " \"9000\"\n",
       " \"\"\n",
       " \"10000\""
      ]
     },
     "execution_count": 1,
     "metadata": {},
     "output_type": "execute_result"
    }
   ],
   "source": [
    "test_input = readlines(\"test_input.txt\")"
   ]
  },
  {
   "cell_type": "code",
   "execution_count": 2,
   "id": "b33c09cc",
   "metadata": {},
   "outputs": [
    {
     "data": {
      "text/plain": [
       "2253-element Vector{String}:\n",
       " \"6471\"\n",
       " \"1935\"\n",
       " \"1793\"\n",
       " \"3843\"\n",
       " \"6059\"\n",
       " \"6736\"\n",
       " \"6101\"\n",
       " \"3133\"\n",
       " \"6861\"\n",
       " \"1330\"\n",
       " \"1962\"\n",
       " \"5538\"\n",
       " \"6760\"\n",
       " ⋮\n",
       " \"4878\"\n",
       " \"5630\"\n",
       " \"5012\"\n",
       " \"4859\"\n",
       " \"4836\"\n",
       " \"2649\"\n",
       " \"1468\"\n",
       " \"\"\n",
       " \"2661\"\n",
       " \"16077\"\n",
       " \"6030\"\n",
       " \"1807\""
      ]
     },
     "execution_count": 2,
     "metadata": {},
     "output_type": "execute_result"
    }
   ],
   "source": [
    "input = readlines(\"input.txt\")"
   ]
  },
  {
   "cell_type": "code",
   "execution_count": 3,
   "id": "8496bafc",
   "metadata": {},
   "outputs": [
    {
     "data": {
      "text/plain": [
       "sum_top_elves (generic function with 2 methods)"
      ]
     },
     "execution_count": 3,
     "metadata": {},
     "output_type": "execute_result"
    }
   ],
   "source": [
    "function obtain_elves_calories(input)\n",
    "    elves_calories = zeros(Int64, count(i->(i==\"\"), input)+1)\n",
    "    elf = 1\n",
    "    for line in input\n",
    "        if line == \"\"\n",
    "            elf += 1\n",
    "        else\n",
    "            elves_calories[elf] += parse(Int64, line)\n",
    "        end\n",
    "    end\n",
    "    return elves_calories\n",
    "end\n",
    "\n",
    "function maximum_calories(input)\n",
    "    return maximum(obtain_elves_calories(input))\n",
    "end\n",
    "    \n",
    "function sum_top_elves(input, count = 3)\n",
    "    return sum(sort(obtain_elves_calories(input), rev=true)[1:count]\n",
    "end"
   ]
  },
  {
   "cell_type": "markdown",
   "id": "4c234720",
   "metadata": {},
   "source": [
    "## Test cases"
   ]
  },
  {
   "cell_type": "code",
   "execution_count": 16,
   "id": "9ed478a7",
   "metadata": {},
   "outputs": [
    {
     "data": {
      "text/plain": [
       "\u001b[32m\u001b[1mTest Passed\u001b[22m\u001b[39m"
      ]
     },
     "execution_count": 16,
     "metadata": {},
     "output_type": "execute_result"
    }
   ],
   "source": [
    "using Test\n",
    "Test.@test maximum_calories(test_input) == 24000\n",
    "Test.@test sum_top_elves(test_input) == 45000"
   ]
  },
  {
   "cell_type": "markdown",
   "id": "81bedabe",
   "metadata": {},
   "source": [
    "## Part One"
   ]
  },
  {
   "cell_type": "code",
   "execution_count": 19,
   "id": "b3f83208",
   "metadata": {},
   "outputs": [
    {
     "name": "stdout",
     "output_type": "stream",
     "text": [
      "Part One: 70698\n"
     ]
    }
   ],
   "source": [
    "maximum_calories(input)"
   ]
  },
  {
   "cell_type": "markdown",
   "id": "dd362c87",
   "metadata": {},
   "source": [
    "## Part Two"
   ]
  },
  {
   "cell_type": "code",
   "execution_count": 18,
   "id": "013a1d68",
   "metadata": {},
   "outputs": [
    {
     "data": {
      "text/plain": [
       "206643"
      ]
     },
     "execution_count": 18,
     "metadata": {},
     "output_type": "execute_result"
    }
   ],
   "source": [
    "sum_top_elves(input)"
   ]
  }
 ],
 "metadata": {
  "kernelspec": {
   "display_name": "Julia 1.8.2",
   "language": "julia",
   "name": "julia-1.8"
  },
  "language_info": {
   "file_extension": ".jl",
   "mimetype": "application/julia",
   "name": "julia",
   "version": "1.8.2"
  }
 },
 "nbformat": 4,
 "nbformat_minor": 5
}

{
 "cells": [
  {
   "cell_type": "code",
   "execution_count": 1,
   "metadata": {},
   "outputs": [
    {
     "name": "stdout",
     "output_type": "stream",
     "text": [
      "72070\n"
     ]
    }
   ],
   "source": [
    "# read input from a file and split it by empty lines\n",
    "# and parse the data into a list of lists of ints\n",
    "# then sum each list and return the list of sums\n",
    "# finally return their maximum\n",
    "def part1(filename):\n",
    "    with open(filename) as f:\n",
    "        data = f.read().split('\\n\\n')\n",
    "        data = [[int(n) for n in d.split()] for d in data]\n",
    "        return max([sum(d) for d in data])\n",
    "\n",
    "print(part1('../fsharp_evelina/input01.txt'))\n",
    "\n"
   ]
  },
  {
   "cell_type": "code",
   "execution_count": 2,
   "metadata": {},
   "outputs": [
    {
     "name": "stdout",
     "output_type": "stream",
     "text": [
      "211805\n"
     ]
    }
   ],
   "source": [
    "# use the previous list of sums and find the top three, sum those and return the result\n",
    "def part2(filename):\n",
    "    with open(filename) as f:\n",
    "        data = f.read().split('\\n\\n')\n",
    "        data = [[int(n) for n in d.split()] for d in data]\n",
    "        return sum(sorted([sum(d) for d in data])[-3:])\n",
    "\n",
    "print(part2('../fsharp_evelina/input01.txt')) "
   ]
  }
 ],
 "metadata": {
  "kernelspec": {
   "display_name": "Python 3.10.8 64-bit",
   "language": "python",
   "name": "python3"
  },
  "language_info": {
   "codemirror_mode": {
    "name": "ipython",
    "version": 3
   },
   "file_extension": ".py",
   "mimetype": "text/x-python",
   "name": "python",
   "nbconvert_exporter": "python",
   "pygments_lexer": "ipython3",
   "version": "3.10.8"
  },
  "orig_nbformat": 4,
  "vscode": {
   "interpreter": {
    "hash": "aee8b7b246df8f9039afb4144a1f6fd8d2ca17a180786b69acc140d282b71a49"
   }
  }
 },
 "nbformat": 4,
 "nbformat_minor": 2
}

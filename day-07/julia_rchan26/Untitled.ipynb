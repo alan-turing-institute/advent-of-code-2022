{
 "cells": [
  {
   "cell_type": "code",
   "execution_count": 1,
   "id": "392c0dfe",
   "metadata": {},
   "outputs": [
    {
     "data": {
      "text/plain": [
       "23-element Vector{String}:\n",
       " \"\\$ cd /\"\n",
       " \"\\$ ls\"\n",
       " \"dir a\"\n",
       " \"14848514 b.txt\"\n",
       " \"8504156 c.dat\"\n",
       " \"dir d\"\n",
       " \"\\$ cd a\"\n",
       " \"\\$ ls\"\n",
       " \"dir e\"\n",
       " \"29116 f\"\n",
       " \"2557 g\"\n",
       " \"62596 h.lst\"\n",
       " \"\\$ cd e\"\n",
       " \"\\$ ls\"\n",
       " \"584 i\"\n",
       " \"\\$ cd ..\"\n",
       " \"\\$ cd ..\"\n",
       " \"\\$ cd d\"\n",
       " \"\\$ ls\"\n",
       " \"4060174 j\"\n",
       " \"8033020 d.log\"\n",
       " \"5626152 d.ext\"\n",
       " \"7214296 k\""
      ]
     },
     "execution_count": 1,
     "metadata": {},
     "output_type": "execute_result"
    }
   ],
   "source": [
    "test_input = readlines(\"test_input.txt\")"
   ]
  },
  {
   "cell_type": "code",
   "execution_count": 2,
   "id": "b4142ab8",
   "metadata": {},
   "outputs": [
    {
     "data": {
      "text/plain": [
       "979-element Vector{String}:\n",
       " \"\\$ cd /\"\n",
       " \"\\$ ls\"\n",
       " \"dir plws\"\n",
       " \"dir pwlbgbz\"\n",
       " \"dir pwtpltr\"\n",
       " \"dir szn\"\n",
       " \"\\$ cd plws\"\n",
       " \"\\$ ls\"\n",
       " \"dir ffpzc\"\n",
       " \"dir frcmjzts\"\n",
       " \"92461 nbvnzg\"\n",
       " \"dir phqcg\"\n",
       " \"21621 vqgsglwq\"\n",
       " ⋮\n",
       " \"dir fcsjl\"\n",
       " \"41522 nlvpb.fpf\"\n",
       " \"dir nmtjtd\"\n",
       " \"\\$ cd fcsjl\"\n",
       " \"\\$ ls\"\n",
       " \"276802 fcsjl.psm\"\n",
       " \"197934 sgwz.cdz\"\n",
       " \"\\$ cd ..\"\n",
       " \"\\$ cd nmtjtd\"\n",
       " \"\\$ ls\"\n",
       " \"47477 dvqmqlgw.ths\"\n",
       " \"51081 vqgsglwq\""
      ]
     },
     "execution_count": 2,
     "metadata": {},
     "output_type": "execute_result"
    }
   ],
   "source": [
    "input = readlines(\"input.txt\")"
   ]
  },
  {
   "cell_type": "code",
   "execution_count": 110,
   "id": "0be2b2be",
   "metadata": {},
   "outputs": [
    {
     "data": {
      "text/plain": [
       "find_dir_sizes (generic function with 1 method)"
      ]
     },
     "execution_count": 110,
     "metadata": {},
     "output_type": "execute_result"
    }
   ],
   "source": [
    "function find_dir_sizes(input)\n",
    "    paths = []\n",
    "    sizes = Dict{String,Int64}()\n",
    "    for line ∈ input\n",
    "        if startswith(line, \"\\$ cd ..\")\n",
    "            pop!(paths)\n",
    "        elseif startswith(line, \"\\$ cd \")\n",
    "            # append the next directory\n",
    "            directory = split(line, \"\\$ cd \")[2]\n",
    "            if directory == \"/\"\n",
    "                push!(paths, \"~\")\n",
    "            else\n",
    "                push!(paths, \"$(last(paths))/$(directory)\")\n",
    "            end\n",
    "        elseif isdigit(line[1])\n",
    "            size = parse(Int64, split(line, \" \")[1])\n",
    "            mergewith!(+, sizes, Dict(path => size for path ∈ paths))\n",
    "        end\n",
    "    end\n",
    "    return sizes\n",
    "end"
   ]
  },
  {
   "cell_type": "code",
   "execution_count": 112,
   "id": "2e1485fe",
   "metadata": {},
   "outputs": [
    {
     "data": {
      "text/plain": [
       "\u001b[32m\u001b[1mTest Passed\u001b[22m\u001b[39m"
      ]
     },
     "execution_count": 112,
     "metadata": {},
     "output_type": "execute_result"
    }
   ],
   "source": [
    "using Test\n",
    "test_input_sizes = find_dir_sizes(test_input)\n",
    "Test.@test test_input_sizes[\"~\"] == 48381165\n",
    "Test.@test test_input_sizes[\"~/d\"] == 24933642\n",
    "Test.@test test_input_sizes[\"~/a\"] == 94853\n",
    "Test.@test test_input_sizes[\"~/a/e\"] == 584"
   ]
  },
  {
   "cell_type": "code",
   "execution_count": 93,
   "id": "b27f1db9",
   "metadata": {},
   "outputs": [
    {
     "data": {
      "text/plain": [
       "part_one (generic function with 1 method)"
      ]
     },
     "execution_count": 93,
     "metadata": {},
     "output_type": "execute_result"
    }
   ],
   "source": [
    "function part_one(input)\n",
    "    sizes = find_dir_sizes(input)\n",
    "    total = sum(filter(i -> i <= 100000, collect(values(sizes))))\n",
    "    return total\n",
    "end"
   ]
  },
  {
   "cell_type": "code",
   "execution_count": 114,
   "id": "f12a877c",
   "metadata": {},
   "outputs": [
    {
     "data": {
      "text/plain": [
       "\u001b[32m\u001b[1mTest Passed\u001b[22m\u001b[39m"
      ]
     },
     "execution_count": 114,
     "metadata": {},
     "output_type": "execute_result"
    }
   ],
   "source": [
    "using Test\n",
    "Test.@test part_one(test_input) == 95437\n",
    "Test.@test part_two(test_input) == 24933642"
   ]
  },
  {
   "cell_type": "code",
   "execution_count": 107,
   "id": "ba45c6a4",
   "metadata": {
    "scrolled": true
   },
   "outputs": [
    {
     "data": {
      "text/plain": [
       "part_two (generic function with 1 method)"
      ]
     },
     "execution_count": 107,
     "metadata": {},
     "output_type": "execute_result"
    }
   ],
   "source": [
    "function part_two(input)\n",
    "    sizes = find_dir_sizes(input)\n",
    "    total_space = 70000000\n",
    "    required = 30000000\n",
    "    unused = total_space-sizes[\"~\"]\n",
    "    return minimum(filter(i -> i > required-unused, collect(values(sizes))))\n",
    "end"
   ]
  }
 ],
 "metadata": {
  "kernelspec": {
   "display_name": "Julia 1.8.2",
   "language": "julia",
   "name": "julia-1.8"
  },
  "language_info": {
   "file_extension": ".jl",
   "mimetype": "application/julia",
   "name": "julia",
   "version": "1.8.2"
  }
 },
 "nbformat": 4,
 "nbformat_minor": 5
}
